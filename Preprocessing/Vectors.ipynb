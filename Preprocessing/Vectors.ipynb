{
 "cells": [
  {
   "cell_type": "code",
   "execution_count": 1,
   "metadata": {
    "collapsed": true
   },
   "outputs": [],
   "source": [
    "import os\n",
    "from nltk.tokenize import TweetTokenizer\n",
    "tknzr = TweetTokenizer(strip_handles=True, reduce_len=True)"
   ]
  },
  {
   "cell_type": "code",
   "execution_count": 28,
   "metadata": {
    "collapsed": true
   },
   "outputs": [],
   "source": [
    "path = 'C:/Users/User/Desktop'"
   ]
  },
  {
   "cell_type": "code",
   "execution_count": 19,
   "metadata": {
    "collapsed": false,
    "scrolled": false
   },
   "outputs": [
    {
     "name": "stdout",
     "output_type": "stream",
     "text": [
      "\n",
      "[]\n",
      "[]\n"
     ]
    },
    {
     "data": {
      "text/plain": [
       "<function TextIOWrapper.close>"
      ]
     },
     "execution_count": 19,
     "metadata": {},
     "output_type": "execute_result"
    }
   ],
   "source": [
    "with open('C:/Users/User/Desktop/test/Output.txt', 'r') as file:\n",
    "    fin = []\n",
    "    a = 0\n",
    "    tokens = []\n",
    "    while True:\n",
    "        try:\n",
    "            s0 = file.readline()\n",
    "            s1 = s0.split('   ')[0] #text\n",
    "            s2 = s0.split('   ')[1] #hashtags\n",
    "            tokens = nltk.word_tokenize(s1)\n",
    "            with open('C:/Users/User/Desktop/test/glovetwitter200.txt', 'r') as fd:\n",
    "                for row in arr0:\n",
    "                    while True:\n",
    "                        try:                                    \n",
    "                            f0 = fd.readline()\n",
    "                            f1 = f0.split(' ')[0] #word\n",
    "                            f2 = f0.spilt(' ')[1] #vector\n",
    "                            if row == f1:\n",
    "                                fin.append(f2 + ' ')\n",
    "                        except:\n",
    "                            a += 1\n",
    "                            pass\n",
    "            print (a)\n",
    "            if fin:\n",
    "                 fin.append('\\t' + s2)\n",
    "            b = ''.join(fin)\n",
    "            with open('Finale.txt', 'a') as fdd:\n",
    "                fdd.write(b)\n",
    "            del fin [:]\n",
    "            del arr0 [:]\n",
    "            fd.close()\n",
    "            fdd.close()\n",
    "        except:\n",
    "            pass\n",
    "        if not s0:\n",
    "            break\n",
    "print (s0)            \n",
    "print (tokens)\n",
    "print (fin)\n",
    "\n",
    "file.close"
   ]
  },
  {
   "cell_type": "code",
   "execution_count": 12,
   "metadata": {
    "collapsed": false
   },
   "outputs": [
    {
     "name": "stdout",
     "output_type": "stream",
     "text": [
      "hello world\tworld\n",
      "\n",
      "hi jean\tblabla\n",
      "\n",
      "hey apple\tapple\n",
      "['hello world\\tworld\\n', 'hi jean\\tblabla\\n', 'hey apple\\tapple']\n"
     ]
    }
   ],
   "source": [
    "s0 = ''\n",
    "fin = []\n",
    "a = 0\n",
    "s1 = ''\n",
    "s2 = ''\n",
    "tokens = []\n",
    "with open('C:/Users/User/Desktop/test/Output.txt', 'r') as file:\n",
    "    while True:\n",
    "        try:\n",
    "            s0 = file.readline()\n",
    "            s1 = s0.split('\\t')[0] #text\n",
    "            s2 = s0.split('\\t')[1] #hashtags\n",
    "            print (s0)\n",
    "            tknzr = TweetTokenizer()\n",
    "            #tknzr.tokenize(s0)\n",
    "            s3 =  'dsbdf sgfdfbv sfffger svrsvs'\n",
    "            tknzr.tokenize(s3)\n",
    "            fin.append(s0)\n",
    "            \n",
    "        except:\n",
    "            pass\n",
    "        if not s0:\n",
    "            break\n",
    "    \n",
    "print (fin)"
   ]
  },
  {
   "cell_type": "code",
   "execution_count": 5,
   "metadata": {
    "collapsed": false
   },
   "outputs": [
    {
     "data": {
      "text/plain": [
       "['hello world\\tworld\\n', 'hi jean\\tblabla\\n', 'hey apple\\tapple']"
      ]
     },
     "execution_count": 5,
     "metadata": {},
     "output_type": "execute_result"
    }
   ],
   "source": [
    "(fin)"
   ]
  },
  {
   "cell_type": "code",
   "execution_count": 10,
   "metadata": {
    "collapsed": false
   },
   "outputs": [
    {
     "data": {
      "text/plain": [
       "''"
      ]
     },
     "execution_count": 10,
     "metadata": {},
     "output_type": "execute_result"
    }
   ],
   "source": [
    "s1"
   ]
  },
  {
   "cell_type": "code",
   "execution_count": null,
   "metadata": {
    "collapsed": true
   },
   "outputs": [],
   "source": []
  }
 ],
 "metadata": {
  "anaconda-cloud": {},
  "kernelspec": {
   "display_name": "Python [Root]",
   "language": "python",
   "name": "Python [Root]"
  },
  "language_info": {
   "codemirror_mode": {
    "name": "ipython",
    "version": 3
   },
   "file_extension": ".py",
   "mimetype": "text/x-python",
   "name": "python",
   "nbconvert_exporter": "python",
   "pygments_lexer": "ipython3",
   "version": "3.5.2"
  }
 },
 "nbformat": 4,
 "nbformat_minor": 0
}
