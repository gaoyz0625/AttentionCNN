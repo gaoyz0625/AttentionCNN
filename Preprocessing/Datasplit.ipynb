{
 "cells": [
  {
   "cell_type": "code",
   "execution_count": 1,
   "metadata": {
    "collapsed": false,
    "scrolled": true
   },
   "outputs": [
    {
     "name": "stdout",
     "output_type": "stream",
     "text": [
      "Populating the interactive namespace from numpy and matplotlib\n"
     ]
    }
   ],
   "source": [
    "import pandas as pd\n",
    "%pylab inline\n",
    "import os"
   ]
  },
  {
   "cell_type": "code",
   "execution_count": 2,
   "metadata": {
    "collapsed": false,
    "scrolled": false
   },
   "outputs": [],
   "source": [
    "path = 'C:/Users/User/Desktop/UDI-TwitterCrawl-Aug2012-Tweets/tweets'"
   ]
  },
  {
   "cell_type": "code",
   "execution_count": 3,
   "metadata": {
    "collapsed": false,
    "scrolled": true
   },
   "outputs": [],
   "source": [
    "for filename in os.listdir(path):\n",
    "    with open(os.path.join(path, filename), 'r') as file:\n",
    "        arr = []\n",
    "        line = ''\n",
    "\n",
    "        while True:\n",
    "            try:\n",
    "                line = file.readline()\n",
    "                arr.append(line)\n",
    "            except:\n",
    "                pass\n",
    "            if not line:\n",
    "                break\n",
    "                \n",
    "        first = []\n",
    "        for row in arr:\n",
    "            if not row:\n",
    "                continue\n",
    "            if ('Text: ' in row) or ('Hashtags:  ' in row):    \n",
    "                try:\n",
    "                    first.append(row)\n",
    "                except:\n",
    "                    pass\n",
    "\n",
    "        grab = []\n",
    "        for row in first:\n",
    "            if not row:\n",
    "                continue\n",
    "            if 'Text: ' in row:    \n",
    "                try:\n",
    "                    line2 = row.split ('Text: ')[1]\n",
    "                    line1 = line2.split('\\n')[0]\n",
    "                    grab.append(line1)\n",
    "                except:\n",
    "                    pass\n",
    "            if 'Hashtags:  ' in row:    \n",
    "                try:\n",
    "                    grab.append(row)\n",
    "                except:\n",
    "                    pass\n",
    "        \n",
    "        final = []\n",
    "        for i in range(len(grab) - 1):\n",
    "            current_item, next_item = grab[i], grab[i + 1]\n",
    "            if 'Hashtags:  ' in next_item:\n",
    "                line = next_item.split ('Hashtags:  ')[1]\n",
    "                current_item += '\\t' + line\n",
    "                final.append(current_item)\n",
    "    \n",
    "        b = ''.join(final)\n",
    "\n",
    "\n",
    "        with open('Output.txt', 'a') as fd:\n",
    "            fd.write(b)\n",
    "        fd.close()\n",
    "        del arr[:]\n",
    "        del first[:]\n",
    "        del grab[:]\n",
    "        del final[:]\n",
    "    file.close()"
   ]
  },
  {
   "cell_type": "code",
   "execution_count": null,
   "metadata": {
    "collapsed": true
   },
   "outputs": [],
   "source": []
  }
 ],
 "metadata": {
  "anaconda-cloud": {},
  "kernelspec": {
   "display_name": "Python [Root]",
   "language": "python",
   "name": "Python [Root]"
  },
  "language_info": {
   "codemirror_mode": {
    "name": "ipython",
    "version": 3
   },
   "file_extension": ".py",
   "mimetype": "text/x-python",
   "name": "python",
   "nbconvert_exporter": "python",
   "pygments_lexer": "ipython3",
   "version": "3.5.2"
  }
 },
 "nbformat": 4,
 "nbformat_minor": 0
}
