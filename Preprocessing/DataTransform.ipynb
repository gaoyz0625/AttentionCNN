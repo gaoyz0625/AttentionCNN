{
 "cells": [
  {
   "cell_type": "code",
   "execution_count": 62,
   "metadata": {
    "collapsed": false
   },
   "outputs": [
    {
     "name": "stdout",
     "output_type": "stream",
     "text": [
      "Populating the interactive namespace from numpy and matplotlib\n"
     ]
    }
   ],
   "source": [
    "import os\n",
    "import pandas as pd\n",
    "%pylab inline"
   ]
  },
  {
   "cell_type": "code",
   "execution_count": 61,
   "metadata": {
    "collapsed": false
   },
   "outputs": [
    {
     "name": "stdout",
     "output_type": "stream",
     "text": [
      "Step:  0\n",
      "40 40 40\n",
      "Step:  10000\n",
      "832086 832086 832086\n",
      "Step:  20000\n",
      "1650917 1650917 1650917\n",
      "Step:  30000\n",
      "2486518 2486518 2486518\n",
      "Step:  40000\n",
      "3324406 3324406 3324406\n",
      "Step:  50000\n",
      "4155634 4155634 4155634\n",
      "Step:  60000\n",
      "4984328 4984328 4984328\n",
      "Step:  70000\n",
      "5822165 5822165 5822165\n",
      "Step:  80000\n",
      "6648553 6648553 6648553\n",
      "Step:  90000\n",
      "7496500 7496500 7496500\n",
      "Step:  100000\n",
      "8320562 8320562 8320562\n",
      "Step:  110000\n",
      "9141975 9141975 9141975\n",
      "Step:  120000\n",
      "9956984 9956984 9956984\n",
      "Step:  130000\n",
      "10768563 10768563 10768563\n",
      "Step:  140000\n",
      "11598192 11598192 11598192\n"
     ]
    }
   ],
   "source": [
    "PATH = '../data/tweets/'\n",
    "origins = []\n",
    "hashtags = []\n",
    "\n",
    "for i, file in enumerate(os.listdir(PATH)):\n",
    "    if os.path.isfile(os.path.join(PATH, file)):\n",
    "        origins, hashtags = read_blocks(os.path.join(PATH, file), origins, hashtags)\n",
    "        if i % 10000 == 0:\n",
    "            print('Step: ', i)\n",
    "            print(len(texts), len(origins), len(hashtags))"
   ]
  },
  {
   "cell_type": "code",
   "execution_count": 98,
   "metadata": {
    "collapsed": false
   },
   "outputs": [],
   "source": [
    "def read_blocks(file, origins, hashtags):\n",
    "    fd = open(file, 'r')\n",
    "    paragraphs = fd.read().split('***\\n***')\n",
    "    for par in paragraphs:\n",
    "        origin = ''\n",
    "        hashtag = ''\n",
    "        if ('Text: ' in par) and ('Origin: ' in par) and ('Hashtags:  ' in par):\n",
    "            for row in par.split('\\n'):\n",
    "                if 'Origin: ' == row[:8]:\n",
    "                    origin = row[8:]\n",
    "\n",
    "                if 'Hashtags:  ' == row[:11]:\n",
    "                    hashtag = row[11:]\n",
    "                    \n",
    "            if text and origin and hashtag:\n",
    "                origins.append(origin.lower())\n",
    "                hashtags.append(hashtag.lower())\n",
    "                \n",
    "    return origins, hashtags"
   ]
  },
  {
   "cell_type": "code",
   "execution_count": 103,
   "metadata": {
    "collapsed": false,
    "scrolled": true
   },
   "outputs": [
    {
     "name": "stdout",
     "output_type": "stream",
     "text": [
      "Everyone ready? RT @ctiedeman: Expecting House/Senate Twittoverse 2 light up about 2nite's Reagan Party at O'Garas. 6pm cc: @bmcclung #epic\n",
      "epic\n"
     ]
    }
   ],
   "source": [
    "print(origins[9671305])\n",
    "print(hashtags[9671305])"
   ]
  },
  {
   "cell_type": "code",
   "execution_count": null,
   "metadata": {
    "collapsed": false
   },
   "outputs": [],
   "source": [
    "new = []\n",
    "for i, el in enumerate(hashtags):\n",
    "    new += el.split(' ')\n",
    "    if i % 200000 == 0:\n",
    "        print(i)\n",
    "new = pd.Series(new)\n",
    "new.value_counts()"
   ]
  },
  {
   "cell_type": "code",
   "execution_count": null,
   "metadata": {
    "collapsed": false
   },
   "outputs": [],
   "source": [
    "dictionary = []\n",
    "for i, idx in enumerate(values.index):\n",
    "    if values[idx] > 10000:\n",
    "        dictionary.append(idx)\n",
    "    else:\n",
    "        break\n",
    "    if i % 10000 == 0:\n",
    "        print(i, len(dictionary))"
   ]
  },
  {
   "cell_type": "code",
   "execution_count": 93,
   "metadata": {
    "collapsed": true
   },
   "outputs": [],
   "source": [
    "values.to_csv('../data/out/hashtags.csv')"
   ]
  },
  {
   "cell_type": "code",
   "execution_count": null,
   "metadata": {
    "collapsed": false,
    "scrolled": true
   },
   "outputs": [],
   "source": [
    "idxs = []\n",
    "for i, orig, ht in zip(arange(len(hashtags)), origins, hashtags):\n",
    "    flag = False\n",
    "    for word in ht.split(' '):\n",
    "        if word.lower() in dictionary:\n",
    "            flag = True\n",
    "            continue\n",
    "    if flag:\n",
    "        idxs.append(i)\n",
    "    if i % 1000000 == 0:\n",
    "        print('Step: ', i)\n",
    "        print('Size: ', len(idxs))"
   ]
  },
  {
   "cell_type": "code",
   "execution_count": null,
   "metadata": {
    "collapsed": false,
    "scrolled": true
   },
   "outputs": [],
   "source": [
    "hts = []\n",
    "origs = []\n",
    "for i, idx in enumerate(idxs):\n",
    "    hts.append(hashtags[idx])\n",
    "    origs.append(origins[idx])\n",
    "    if i % 100000 == 0:\n",
    "        print(i)\n",
    "        \n",
    "origins = origs\n",
    "hashtags = hts"
   ]
  },
  {
   "cell_type": "code",
   "execution_count": 137,
   "metadata": {
    "collapsed": false,
    "scrolled": true
   },
   "outputs": [],
   "source": [
    "data = pd.DataFrame({'Origins': origins, 'Hashtags': hashtags})"
   ]
  },
  {
   "cell_type": "code",
   "execution_count": 139,
   "metadata": {
    "collapsed": true
   },
   "outputs": [],
   "source": [
    "data.to_csv('../data/out/data.csv')"
   ]
  }
 ],
 "metadata": {
  "kernelspec": {
   "display_name": "Python 3",
   "language": "python",
   "name": "python3"
  },
  "language_info": {
   "codemirror_mode": {
    "name": "ipython",
    "version": 3
   },
   "file_extension": ".py",
   "mimetype": "text/x-python",
   "name": "python",
   "nbconvert_exporter": "python",
   "pygments_lexer": "ipython3",
   "version": "3.5.2"
  }
 },
 "nbformat": 4,
 "nbformat_minor": 0
}
